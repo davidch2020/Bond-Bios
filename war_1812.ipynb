{
 "cells": [
  {
   "cell_type": "markdown",
   "metadata": {},
   "source": [
    "# Bonds and Treasury Notes of the War of 1812\n",
    "\n",
    "By David Cho and Alexander Dubasov"
   ]
  },
  {
   "cell_type": "markdown",
   "metadata": {},
   "source": [
    "## Historical Context\n",
    "\n",
    "In the decade leading up to the War of 1812, “republican simplicity” dictated national economic and financial policy; President Thomas Jefferson advocated for a decentralized federal government and an agrarian society. However, in the final years before the outbreak of war, the nation’s finances and banking system were in a precarious position. Before the war, land sales and customs duties generated most of the government’s revenue and the government did not impose an income tax on its citizens. In 1811, one year before the war began, Congress refused to recharter the First Bank of the US despite Treasury Secretary Albert Gallatin's best efforts to renew it. The lack of a national bank would prove to be consequential in the financing of the upcoming war. "
   ]
  },
  {
   "cell_type": "markdown",
   "metadata": {},
   "source": [
    "## Outline \n",
    "Bonds and treasury notes issued during the war, according to Richard Bayley: \n",
    "\n",
    "1. Six Percent Loan of 1812\n",
    "   - Exchanged Six Percent Stock\n",
    "3. Treasury Notes\n",
    "    - 1812 Issue\n",
    "    - 1813 Issue\n",
    "    - 1814 Issue \n",
    "6. Sixteen Million Loan of 1813\n",
    "8. Seven and One-Half Million Loan of 1813\n",
    "10. Six Percent Loans of 1814\n",
    "    - Ten Million Loan\n",
    "    - Six Million Loan\n",
    "    - Undesignated Loan\n",
    "12. Mississippi Stock\n",
    "13. Temporary Loan of 1814 \n",
    "14. Treasury Notes of December, 1814\n",
    "15. Direct-Tax Loan\n",
    "16. Temporary Loan of February 1815\n",
    "17. Seven Per Cent. Stock of 1815\n",
    "18. Treasury Notes of 1815\n",
    "19. Small Treasury Notes of 1815\n",
    "20. Treasury Note Stock of 1815\n",
    "21. Temporary Loan of March, 1815\n",
    "22. Six Per Cent. Loan of 1815"
   ]
  },
  {
   "cell_type": "markdown",
   "metadata": {},
   "source": [
    "## What's Being Covered\n",
    "\n",
    "Each mini bond/note bio includes information on \n",
    "\n",
    "- Features for each bond/note\n",
    "- Historical context and reasons for issuance\n",
    "- How was the bond marketed?\n",
    "- Who bought the bonds and notes?\n",
    "- Sources \n",
    "\n",
    "Each mini bond/note bio includes the following graphs  \n",
    "\n",
    "- Market Price: price of bond/note on the open market over time (dataset: `BondPrice.csv`)\n",
    "- Quantity: quantity outstanding of bond/note over time (dataset: `BondQuant.csv`)  "
   ]
  },
  {
   "cell_type": "markdown",
   "metadata": {},
   "source": [
    "<b>Notes</b>\n",
    "1. 6% was a common interest rate set during this time. According to Perkins, since 1801, most other government bonds that had been issued typically had an interest rate between 5 and 6 percent.\n",
    "2. Active oustanding, public holdings, and total outstanding were all the same. Therefore, the only quantity data were public holdings since public holdings are a sublevel of active outstanding, which itself is a sublevel of total outstanding. There could be many reasons for why there is only public holdings data, including simply the Treasury did not report matured or called oustanding. "
   ]
  },
  {
   "cell_type": "code",
   "execution_count": null,
   "metadata": {},
   "outputs": [],
   "source": [
    "# Import Data\n",
    "import pandas as pd \n",
    "import seaborn as sns\n",
    "import matplotlib.pyplot as plt\n",
    "import matplotlib.patheffects as pe\n",
    "import mplcursors\n",
    "import numpy as np \n",
    "from matplotlib.dates import DateFormatter, MonthLocator, YearLocator\n",
    "from matplotlib.ticker import FuncFormatter\n",
    "bond_price = pd.read_csv(\"data/BondPrice.csv\")\n",
    "bond_quant = pd.read_csv(\"data/BondQuant.csv\") \n",
    "\n",
    "%matplotlib widget"
   ]
  },
  {
   "cell_type": "code",
   "execution_count": null,
   "metadata": {},
   "outputs": [],
   "source": [
    "# Add hovering features \n",
    "def show_hover_panel(df, scatplot, get_text_func=None):\n",
    "    cursor = mplcursors.cursor(\n",
    "        scatplot, \n",
    "        hover=2,  # Transient\n",
    "        annotation_kwargs=dict(\n",
    "            bbox=dict(\n",
    "                boxstyle=\"square,pad=0.5\",\n",
    "                facecolor=\"white\",\n",
    "                edgecolor=\"#ddd\",\n",
    "                linewidth=0.5,\n",
    "                path_effects=[pe.withSimplePatchShadow(offset=(1.5, -1.5))],\n",
    "            ),\n",
    "            linespacing=1.5,\n",
    "            arrowprops=None,\n",
    "        ),\n",
    "        highlight=True,\n",
    "        highlight_kwargs=dict(linewidth=2),\n",
    "    )\n",
    "\n",
    "    if get_text_func:\n",
    "        cursor.connect(\n",
    "            event=\"add\",\n",
    "            func=lambda sel: sel.annotation.set_text(get_text_func(df, sel.index)),\n",
    "        )\n",
    "\n",
    "    return cursor\n",
    "\n",
    "\n",
    "def on_add(df, index):\n",
    "    item = df.iloc[index]\n",
    "    if df.columns[1] == \"Price\":\n",
    "        parts = [\n",
    "            f\"Date: {item.Timestamp.strftime('%Y-%m-%d')}\",\n",
    "            f\"Price: {item.Price:,.2f}\",\n",
    "        ]\n",
    "    else:\n",
    "        parts = [\n",
    "            f\"Date: {item.Timestamp.strftime('%Y-%m-%d')}\",\n",
    "            f\"Quant: {item.Quant:,.2f}\",\n",
    "        ]\n",
    "\n",
    "    return \"\\n\".join(parts)"
   ]
  },
  {
   "cell_type": "code",
   "execution_count": null,
   "metadata": {},
   "outputs": [],
   "source": [
    "# reformat dataframe to create separate timestamp and price columns \n",
    "# drop NaN columns \n",
    "def melt_clean_price(df):\n",
    "    # Drop columns with NaN \n",
    "    clean_df = df.dropna(axis=1) \n",
    "    df_melted = clean_df.melt(var_name='Timestamp', value_name='Price')\n",
    "    df_melted = df_melted.iloc[2:].reset_index(drop=True)\n",
    "    return df_melted\n",
    "\n",
    "# remove ax from parameter and uncomment fig, ax \n",
    "# Graph for price function\n",
    "def graph(df, title, graph_type):\n",
    "    sns.set(style=\"darkgrid\")\n",
    "    # convert timestamp dtype into datetime dtype\n",
    "    df['Timestamp'] = pd.to_datetime(df['Timestamp'])\n",
    "    # Set up Seaborn plot\n",
    "    \n",
    "    fig, ax = plt.subplots(figsize=(10, 6))\n",
    "\n",
    "    scatplot = sns.scatterplot(data=df, x='Timestamp', y=graph_type, marker='o')\n",
    "    #scatplot.axvspan(xmin=pd.Timestamp(\"1819\"), xmax=pd.Timestamp(\"1822\"), fc=\"#E0837F\")\n",
    "    # Format x-axis ticks to show year \n",
    "    date_form = DateFormatter(\"%Y\")\n",
    "\n",
    "    #ax.xaxis.set_major_formatter(date_form)\n",
    "    #ax.xaxis.set_major_locator(YearLocator(2))\n",
    "    plt.gca().xaxis.set_major_formatter(date_form)\n",
    "    plt.gca().xaxis.set_major_locator(YearLocator(2))\n",
    "    \n",
    "    # Get the minimum and maximum dates with data (assuming 'date' is a datetime type)\n",
    "    min_date = df['Timestamp'].min()\n",
    "    max_date = df['Timestamp'].max()\n",
    "    # Set the x-axis limits to exclude extra years\n",
    "    plt.xlim(min_date, max_date)\n",
    "\n",
    "    # Enhance plot aesthetics (optional)\n",
    "    plt.xlabel('Year')\n",
    "    plt.title(title)\n",
    "    plt.grid(True)\n",
    "\n",
    "    if graph_type == \"Quant\":\n",
    "        # reformat y-axis to be in millions, not tens of millions\n",
    "        if df[\"Quant\"].max() > 1e6:\n",
    "            ax.yaxis.set_major_formatter(FuncFormatter(lambda x, _: '{:.0f}'.format(x / 1e6)))\n",
    "            plt.ylabel('Total Outstanding (millions)')\n",
    "        else: # otherwise use hundred thousands label \n",
    "            ax.yaxis.set_major_formatter(FuncFormatter(lambda x, _: '{:.0f}'.format(x / 1e5)))\n",
    "            plt.ylabel('Total Outstanding (hundred thousands)')\n",
    "\n",
    "    show_hover_panel(df, scatplot, on_add) # add cursor hover features \n",
    "\n",
    "    plt.plot(df['Timestamp'], df[graph_type])\n",
    "    \n",
    "    return plt # return completed figure "
   ]
  },
  {
   "cell_type": "code",
   "execution_count": null,
   "metadata": {},
   "outputs": [],
   "source": [
    "# clean quant dataframe \n",
    "# returns a series with chosen row \n",
    "def clean_quant(quant_df):\n",
    "    subset_cols = quant_df.columns[2:] \n",
    "    # Drop rows where all columns are Nan \n",
    "    temp_clean_quant_df = quant_df.dropna(how=\"all\", subset=subset_cols).dropna(axis=1)\n",
    "    # print(clean_six_percent_prices)\n",
    "    # print(temp_clean_six_percent_quant)\n",
    "    \n",
    "    # Define the threshold\n",
    "    threshold = 0.001\n",
    "    # Function to check if all values in a column are close to zero\n",
    "    def is_close_to_zero(col, threshold):\n",
    "        return np.all(np.abs(col) < threshold)\n",
    "    \n",
    "    cols_to_drop = [col for col in temp_clean_quant_df.iloc[:, 2:].columns if is_close_to_zero(temp_clean_quant_df[col], threshold)]\n",
    "    \n",
    "    # Drop the columns\n",
    "    clean_quant_df = temp_clean_quant_df.drop(columns=cols_to_drop)\n",
    "    return clean_quant_df\n",
    "    # print(clean_quant_df) \n",
    "\n",
    "def reformat_quant(clean_quant_df, row):\n",
    "    # reformat dataframe to include timestamp and quant columns \n",
    "    series_data = clean_quant_df[clean_quant_df[\"Series\"] == row].melt(var_name='Timestamp', value_name='Quant')\n",
    "    series_data = series_data.iloc[2:].reset_index(drop=True)\n",
    "    series_data['Timestamp'] = pd.to_datetime(series_data['Timestamp']) #convert timestamp column to a datetime object \n",
    "    return series_data # return the selected row \n",
    "\n",
    "# Add a historical marker\n",
    "# An important event \n",
    "def add_marker(axis, event_str, date, y_coord, font_size):\n",
    "    axis.annotate(event_str,\n",
    "            xy=(pd.Timestamp(date), y_coord), xycoords='data',\n",
    "            xytext=(30, 10), textcoords='offset points', size=font_size, \n",
    "            arrowprops=dict(facecolor='black', shrink=0.05))\n",
    "\n",
    "# color background to define a period\n",
    "def add_period(plot, begin, end):\n",
    "    # ax.text(pd.Timestamp(\"1820-06\"), 90, 'Panic of 1819', horizontalalignment='center')\n",
    "    plot.axvspan(xmin=pd.Timestamp(begin), xmax=pd.Timestamp(end), fc=\"#E0837F\")"
   ]
  },
  {
   "cell_type": "markdown",
   "metadata": {},
   "source": [
    "## Six Percent Loan of 1812"
   ]
  },
  {
   "cell_type": "markdown",
   "metadata": {},
   "source": [
    "### Overview and Features\n",
    "<b>Six Percent Loan of 1812:</b> Congress allowed the President to borrow no more than **\\\\$ 11 million** through an act passed on March 14, 1812, three months before the war officially began. The interest rate was set at **6%, in quarterly payments** [1]. Bonds could be redeemed starting January 1, 1825. **Bonds could not be sold below par**. The treasury obtained <b>\\$ 8,134,700</b> through issuing these stock certificates [1].\n",
    "\n",
    "<b>Temporary Loan of 1812:</b> Authorized by the same act on March 14, 1812 that authorized the six percent loan of 1812. Bonds were redeemable based on contracts. Sold at par and at **6% interest in quarterly payments**. The final redemption occured on June 28, 1817. Around **\\$2,150,000** was obtained under special contracts with various banks according to Bayley [1]. \n",
    "\n",
    "<b>Exchanged Six Percent Stock: </b>Congress authorized the exchanged six percent stock through an act on June 24, 1812. The act allowed individuals to trade in their old six percent stock in exchange for new six percent stock. These new stocks had the same features as the original stock. Gallatin had noted that by June, the \\\\$ 11 million loan only managed to bring in \\\\$ 6.46 million. Gallatin thought the new stock would increase the price of the bonds since according to Gallatin the old stock was selling 2-3% below par. The Treasury collected around **\\\\$ 2,984,746** worth of subscriptions of the exchanged six percent stock. The act did not have any new features compared to the old six percent stock. The act explicitly protected those who purchased the old six percent stock and did not wish to subcribe to the exchanged stock. The only individuals and banks who could purchase the new six percent stocks were those who already had the old six percent stock [1].\n",
    "\n",
    "### Marketing and Buyers \n",
    "Not many banks and individuals were not interested in buying government debt and the modest interest rate (6%) did not excite many potential buyers. Another reason Potential buyers did not buy the six percent stock was because they were nervous that the United States could suffer defeat against Britain, who had the largest army and navy at the time. New Englanders remained unsympathetic to the war and Congress did not find a way to fulfill interest payments, which did not raise confidence. Meanwhile, securities markets were primarily regional, located in major cities such as New York. American firms lacked the ability to underwrite large securities issues, and American agents in Europe could not underwrite American securities issues. Due to the lack of capability, the Treasury announced the six percent bonds and simply waited for investors to come, but only \\\\$ 6.2 million was initially bought [2].\n",
    "\n",
    "1. **\\$4.2 million** bought by **banks** for their long-term portfolios.\n",
    "2. **\\$2.0 million** bought by **individuals** [2].  \n",
    "\n",
    "#### Sources\n",
    "- [1] *The National Loans of the United States From July 4, 1776 to June 30, 1880* by Richard Bayley\n",
    "- [2] *American Public Finance and Financial Services 1700-1815* by Edwin J. Perkins (327-330) "
   ]
  },
  {
   "cell_type": "code",
   "execution_count": null,
   "metadata": {},
   "outputs": [],
   "source": [
    "%matplotlib widget\n",
    "# Six percent loan of 1812 \n",
    "# prices \n",
    "six_percent_prices = bond_price[bond_price[\"L1 ID\"] == 20048] \n",
    "six_percent_prices_melted = melt_clean_price(six_percent_prices) # clean and melt (reformat) dataframe \n",
    "six_percent_plot = graph(six_percent_prices_melted, 'Market Price of 1812 Six Percent Loan (1813-1825)', \"Price\")\n",
    "\n",
    "# historical annotations \n",
    "add_marker(six_percent_plot, 'Burning of Washington DC (Aug. 24, 1814)', \"1814-7-24\", 84, 8)\n",
    "add_marker(six_percent_plot, 'Battle of New Orleans (Jan. 8, 1815)', \"1815-1-08\", 75, 8) \n",
    "# Panic of 1819 \n",
    "add_period(six_percent_plot, \"1819\", \"1822\")\n",
    "six_percent_plot.text(pd.Timestamp(\"1820-06\"), 90, 'Panic of 1819', horizontalalignment='center')\n",
    "\n",
    "six_percent_plot.show()"
   ]
  },
  {
   "cell_type": "markdown",
   "metadata": {},
   "source": [
    "Prices dipped substantially during the latter half of 1814. From the end of June, 1814 to the end of January, 1815, prices decreased by 13.79%. The decrease in price coincides with the British Chesapeake campaign which saw the burning of Washington DC. The uptick in prices after January, 1815 can be explained by the signing of the Treaty of Ghent, ending the war. The market price reached a maximum of \\\\$ 109.50 by the end of June, 1822. The period from 1819 to the latter half of 1822 saw an increase in the price, coinciding with the Panic of 1819 and the ensuing financial crisis. The rise in prices during this time could be explained by the Second Bank's tighter monetary policy that reduced the money supply. This deflation would have in turn led to a rise in bond prices. "
   ]
  },
  {
   "cell_type": "code",
   "execution_count": null,
   "metadata": {},
   "outputs": [],
   "source": [
    "# quantities \n",
    "six_percent_quant = bond_quant[bond_quant[\"L1 ID\"] == 20048]\n",
    "clean_six_percent_quant = clean_quant(six_percent_quant)\n",
    "#print(clean_six_percent_quant) \n",
    "total_outstanding = reformat_quant(clean_six_percent_quant, \"Total Outstanding\")\n",
    "#print(total_outstanding)\n",
    "total_outstanding_plot = graph(total_outstanding, \"Total Outstanding of Six Percent Loan of 1812 (1812-1832)\", \"Quant\") \n",
    "\n",
    "# add historical dates \n",
    "add_marker(total_outstanding_plot, 'Commissioners of sinking fund purchase stock (1817)', \"1817-9-20\", 7e6, 8)\n",
    "add_marker(total_outstanding_plot, 'Redemption date beginning (Jan. 1, 1825)', \"1825-1-01\", 6.3e6, 8)\n",
    "\n",
    "total_outstanding_plot.show()\n",
    "six_percent_1812_quant = total_outstanding"
   ]
  },
  {
   "cell_type": "markdown",
   "metadata": {},
   "source": [
    "Total outstanding of approximately 3 million at the end of June 1813. By the end of 1813, total oustanding increases to 7.7 million. Slight uptick at the end of 1814, at the war's conclusion. Quantity drops from 7.78 million to 6.26 million between July and September of 1817; 19.57% decrease (-\\\\$ 1,522,048); according to Bayley, the commissioners of the sinking fund purchased \\\\$ 1,603,997 at that time. There was a 91.57% decrease in total outstanding from October to December 1825; most likely cause were that bonds became redeemable starting January, 1825. The maximum quantity outstanding was \\\\$ 7,810,500, way below the \\\\$ 11 million authorized by Congress. "
   ]
  },
  {
   "cell_type": "code",
   "execution_count": null,
   "metadata": {},
   "outputs": [],
   "source": [
    "# quantities \n",
    "exchanged_six_quant = bond_quant[bond_quant[\"L1 ID\"] == 20051]\n",
    "clean_exchanged_six_quant = clean_quant(exchanged_six_quant)\n",
    "total_outstanding = reformat_quant(clean_exchanged_six_quant, \"Total Outstanding\")\n",
    "#print(total_outstanding)\n",
    "total_outstanding_plot = graph(total_outstanding, \"Total Outstanding of Exchanged Six Percent Stock (1812-1826)\", \"Quant\") \n",
    "total_outstanding_plot.show()\n",
    "\n",
    "add_marker(total_outstanding_plot, 'Redeemable (Jan. 1, 1825)', \"1824-12-31\", 2.7e6, 8)\n",
    "add_marker(total_outstanding_plot, 'Commissioners of sinking fund purchase stock (1817)', \"1817-8-10\", 2.8e6, 8)\n",
    "\n",
    "public_holdings = reformat_quant(clean_exchanged_six_quant, \"Public Holdings\")\n",
    "exchanged_six_quant = total_outstanding "
   ]
  },
  {
   "cell_type": "markdown",
   "metadata": {},
   "source": [
    "There is a sharp decrease in total outstanding from December, 1824 through March, 1825 from \\\\$ 2,668,974.99 to \\$ 177,650.18, a 93.34% decrease. The decrease was most likely caused by the fact that the stock became redeemable after December 31, 1824.  "
   ]
  },
  {
   "cell_type": "markdown",
   "metadata": {},
   "source": [
    "# Treasury Notes\n",
    "\n",
    "Treasury notes were short term bonds that the government issued during the War of 1812 to make up for the poor selling of long-term bonds. These notes were typically redeemable after 1 year and could be used to pay duties, taxes, and purchase land. In total, there were five separate issues of notes. While early issues had large denominations (e.g. \\\\$100 and \\\\$1000), future issues included smaller denominations (e.g. \\\\$3 and \\\\$20). Overall, these notes were a success by acting as a form of paper currency.\n",
    "\n",
    "Source: *Monetary Aspects of the Treasury Notes of 1812* by Donald H. Kagin"
   ]
  },
  {
   "cell_type": "code",
   "execution_count": null,
   "metadata": {},
   "outputs": [],
   "source": [
    "# Market Price of Treasury Notes \n",
    "treasure_notes_prices = bond_price[bond_price[\"L1 ID\"] == 20050] \n",
    "treasure_notes_melted = melt_clean_price(treasure_notes_prices) # clean and melt (reformat) dataframe \n",
    "treasure_notes = graph(treasure_notes_melted, 'Market Price of Treasury Notes (1814-1817)', \"Price\")\n",
    "\n",
    "treasure_notes.show()"
   ]
  },
  {
   "cell_type": "markdown",
   "metadata": {},
   "source": [
    "Market price data starts November, 1814. This aligns with the total outstanding records which show the first redemptions occuring in the second quarter of that year. The market price data also has a shorter date range. This is most likely due to the fact most of the Treasury notes were redeemed quickly (little more than a year) after they were issued. Price hovered around \\\\$ 100, impying the most common denomination on the market was \\\\$ 100. "
   ]
  },
  {
   "cell_type": "markdown",
   "metadata": {},
   "source": [
    "## Issue of 1812"
   ]
  },
  {
   "cell_type": "markdown",
   "metadata": {},
   "source": [
    "### Overview and Features\n",
    "The first issue of treasury notes were authorized by Congress on June 30, 1812. Congress decided to authorize the notes as a result of the Six Percent Loan in 1812 failing to attract enough buyers and an estimated \\\\$ 11 million deficit. Many Congressmen opposed the treasury notes and wanted to use other revenue sources such as taxation. They argued banks and people scared of paper money would not purchase treasury notes because they weren't worth as much in gold or silver and that they would appreciate like the Continental Currency during the American Revolution. Meanwhile, supporters argued silver was in short supply and gold was undervalued. Therefore, coins could not be made. Treasury notes were seen as a good replacement for the First Bank of the US's notes. Depreciation would be avoided because notes could be used to pay off taxes and banks would keep them in their reserves [3]. \n",
    "\n",
    "The act authorizing the notes states no more than **\\\\$ 5 million** could be issued. The interest rate was set at **5.4%** and the bond could be redeemed after 1 year. Notes were **sold at par**. The only two denomations for the first issue were: \\\\$ 100 and \\\\$ 1000 [1]. \n",
    "\n",
    "### Marketing and Buyers\n",
    "Treasury notes could be be used to pay off taxes, duties, and debts [1]. These Treasury notes could also be exchanged for long-term bonds paying 7 percent interest [2]. <b>$3.5 million</b> ended up being sold to banks, mostly located in Mid-Atlantic states. By December 1, the remaining bills were sold off, many going to New England. According to Treasury Secretary Alexander Dallas, Treasury notes were bought primarily by \"necessitous creditors, or contractors in distress, or commissaries, quartermasters, and navy agents acting officially.\" Kagin cites the Niles Weekly Register, who observed how banks primarily used the notes as reserves, meaning they were not circulating. In his report to Congress, Secretary Dallas states most notes went towards paying taxes [3].\n",
    "\n",
    "#### Sources\n",
    "- [1] *The National Loans of the United States From July 4, 1776 to June 30, 1880* by Richard Bayley\n",
    "- [2] [The American Numismatic Association](https://www.money.org/tales-from-the-vault-war-of-1812-treasury-notes/)\n",
    "- [3] *Monetary Aspects of the Treasury Notes of the War of 1812* by Donald H. Kagin "
   ]
  },
  {
   "cell_type": "code",
   "execution_count": null,
   "metadata": {},
   "outputs": [],
   "source": [
    "# quantities \n",
    "treasure_notes_1812_quant = bond_quant[bond_quant[\"L1 ID\"] == 20050]\n",
    "clean_treasure_notes_1812_quant = clean_quant(treasure_notes_1812_quant)\n",
    "# print(clean_treasure_notes_1812_quant) \n",
    "total_outstanding = reformat_quant(clean_treasure_notes_1812_quant, \"Total Outstanding\")\n",
    "#print(total_outstanding)\n",
    "total_outstanding_plot = graph(total_outstanding, \"Total Outstanding of Treasury Notes of 1812 (1812-1836)\", \"Quant\") \n",
    "total_outstanding_plot.show()\n",
    "\n",
    "add_marker(total_outstanding_plot, '$2.15 million redemption', \"1814-4-30\", 4e6, 8)\n",
    "add_marker(total_outstanding_plot, '$2.74 million redemption', \"1814-11-01\", 1.5e6, 8)\n",
    "\n",
    "treasury_notes_1812_quant = total_outstanding "
   ]
  },
  {
   "cell_type": "markdown",
   "metadata": {},
   "source": [
    "The 1812 issue of Treasury notes reached its authorized limit of \\\\$ 5 million by the end of 1813. The data aligns with Kagin's statement that \"the first issue of Treasury Notes was quite successful\" and that \"the rest of the bills were disposed of by December 1 the following year [1813].\" After March 1814, the total outstanding falls sharply. By the end of 1814, the total outstanding had decreased by 97.84%. This sharp decrease aligns with the fact that Treasury notes were meant to be short-term bonds and were redeemable after a year they were issued. "
   ]
  },
  {
   "cell_type": "markdown",
   "metadata": {},
   "source": [
    "## Issue of 1813 "
   ]
  },
  {
   "cell_type": "markdown",
   "metadata": {},
   "source": [
    "### Overview and Features \n",
    "Gallatin wanted to replace the Treasury notes authorized in 1812 because the war effort required an additional borrowing of \\\\$ 19 million. Republicans refused to raise taxes. The \\\\$ 5 million in notes would be a part of the \\\\$ 16 million loan passed on February 8. Congress intended these notes to supplement shortfalls in long-term loans. However, Congress did nothing to support the notes in circulation and . Gallatin's plan did not succeed [2]. Madison would ask Congress for an additional \\\\$ 7.5 million [4]. \n",
    "\n",
    "Congress authorized the treasury notes on February 25, 1813. They allowed the Treasury to issue no more than <b>\\$ 5 million</b>. The bonds <b>sold at par</b>. Buyers could redeem them after <b>one year</b>. Congress set a fixed interest rate of <b>5.4%</b>. Agents earned a commission of 1/4th of a cent [1]. Congress only issued notes in \\\\$100 and \\\\$1000 denominations [3]. Congress allowed individuals to give their notes to another person [5]. While most treasury notes were redeemed after a year, some were converted to long-term bonds with seven percent interest [6]. \n",
    "\n",
    "### Marketing and Buyers\n",
    "The Treasury considered the notes as legal tender and notes could accrue short-term interest [2]. Despite the large denominations, Congress allowed individuals to give notes to each other and use notes to pay taxes, duties, and buy land. When using treasury notes to pay, the holder earned the principal amount and accrued interest [5]. Banks used Treasury notes for their reserves. Since these early Treasury notes had high denominations and could be used as payment, wealthy Americans and merchants purchased and used them more [2]. \n",
    "\n",
    "Treasury Secretary Dallas stated in a report in 1815, the Treasury notes issued before 1815 could not be used effectively as a medium of exchange because Congress set the denominations too high (\\\\$ 100 and \\\\$ 1000), which made the early issues (before 1815) unappealing to individuals. \n",
    "\n",
    "#### Sources\n",
    "- [1] *The National Loans of the United States From July 4, 1776 to June 30, 1880* by Richard Bayley\n",
    "- [2] *Monetary Aspects of the Treasury Notes of 1812* by Donald H. Kagin \n",
    "- [3] [*Treasury notes fill gap to support War of 1812* by Paul Gilkes](https://www.coinworld.com/news/paper-money/treasury-notes-fill-gap-to-support-war-of-1812.html)\n",
    "- [4] <I>Financing the War of 1812</i> by Brandy Heritage Center\n",
    "- [5] <I>An Act authorizing the issuing of Treasury notes for the service of the year one thousand eight hundred and thirteen</I> by the Twelfth Congress\n",
    "- [6] American Public Finance and Financial Services 1700-1815 by Edwin J. Perkins (337) "
   ]
  },
  {
   "cell_type": "code",
   "execution_count": null,
   "metadata": {},
   "outputs": [],
   "source": [
    "# quantities \n",
    "treasury_notes_1813_quant = bond_quant[bond_quant[\"L1 ID\"] == 20053]\n",
    "clean_treasury_notes_1813_quant = clean_quant(treasury_notes_1813_quant)\n",
    "total_outstanding = reformat_quant(clean_treasury_notes_1813_quant, \"Total Outstanding\")\n",
    "#print(total_outstanding)\n",
    "total_outstanding_plot = graph(total_outstanding, \"Total Outstanding of Treasury Notes of 1813 (1813-1836)\", \"Quant\") \n",
    "total_outstanding_plot.show()\n",
    "\n",
    "public_holdings = reformat_quant(clean_treasury_notes_1813_quant, \"Public Holdings\")\n",
    "treasury_notes_1813_quant = total_outstanding \n",
    "#public_holdings_plot = graph_quant(public_holdings, \"Public Holdings of Exchanged Six Percent Stock (1812-1817)\") \n",
    "#public_holdings_plot.show()"
   ]
  },
  {
   "cell_type": "markdown",
   "metadata": {},
   "source": [
    "The amount of Treasury notes issued reached the maximum \\$ 5 million authorized by Congress by the end of March, 1814. In the same month, the first notes could be redeemed, after which the quantity decreased drastically over the next three years. "
   ]
  },
  {
   "cell_type": "markdown",
   "metadata": {},
   "source": [
    "## Issue of March, 1814"
   ]
  },
  {
   "cell_type": "markdown",
   "metadata": {},
   "source": [
    "### Overview and Features\n",
    "War expenditures had ballooned to \\\\$ 45.4 million with Treasury revenue only at \\\\$ 16 million. Congress had already authorized a \\\\$ 25 million loan in March 4, 1814 with approximately **\\\\$ 10 million worth** of Treasury notes meant to be a part of that loan. Notes could be redeemed **one year** from date. The interest rate was set at **5.4%** which would be paid on redemption. The notes **sold at par**. Similar to previous issues, these Treasury notes could be used to pay taxes, duties, or purchase public lands [1]. The notes came in three denominations: \\\\$ 1000, \\\\$ 100, and the newly added \\\\$ 20 [2]. \n",
    "\n",
    "### Marketing and Buyers \n",
    "Agents were given a commission of 1/4th of one percent sold. The Treasury Secretary noted that the notes were popular for the following reasons: buyers were confident they would be reimbursed at the end of the year and their usefulness as a currency for what he called \"remittances and other economical operations\" [1]. The \\\\$ 20 denominations were intended to be used as hand currency so more money could end up in circulation, but the Treasury Secretary specifically avoided making the notes legal tender. Buyers also had the option of converting the notes into long-term seven percent interest bonds which helped maintain the value of the notes, unlike the Continental Currency, making them more stable and appealing [3]. In the end, large numbers of these Treasury notes would not end up in circulation as intended [2]. \n",
    "\n",
    "#### Sources \n",
    "- [1] *The National Loans of the United States From July 4, 1776 to June 30, 1880* by Richard Bayley\n",
    "- [2] <i>Monetary Aspects of the Treasury Notes of the War of 1812</i> by Donald H. Kagin (78-79) \n",
    "- [3] *American Public Finance and Financial Services 1700-1815* by Edwin J. Perkins (330) "
   ]
  },
  {
   "cell_type": "code",
   "execution_count": null,
   "metadata": {},
   "outputs": [],
   "source": [
    "# quantities \n",
    "notes_1814_quant = bond_quant[bond_quant[\"L1 ID\"] == 20055]\n",
    "clean_notes_1814_quant = clean_quant(notes_1814_quant)\n",
    "total_outstanding = reformat_quant(clean_notes_1814_quant, \"Total Outstanding\")\n",
    "total_outstanding_plot = graph(total_outstanding, \"Total Outstanding of Treasury Notes of March, 1814 (1814-1837)\", \"Quant\") \n",
    "total_outstanding_plot.show()\n",
    "treasury_notes_1814_quant = total_outstanding "
   ]
  },
  {
   "cell_type": "markdown",
   "metadata": {},
   "source": [
    "Most Treasury notes were redeemed in the latter half of 1815 and through 1816 since These treasury notes were meant to be short-term bonds. The significant quantity of notes after 1820, relative to the previous two issues of notes, can be explained by the fact there were three denominations instead of two. By the 1830s, quantity typically decreases by \\\\$ 20, implying that \\\\$ 20 notes are still being redeemed."
   ]
  },
  {
   "cell_type": "markdown",
   "metadata": {},
   "source": [
    "## Sixteen Million Loan of 1813 "
   ]
  },
  {
   "cell_type": "markdown",
   "metadata": {},
   "source": [
    "### Overview and Features\n",
    "Congress authorized the \\\\$ 16 million loan on February 8, 1813. The loan was necessary since Treasury notes and import duties failed to cover war expenses. The interest rate was set at **6%, payable quarterly**. Bonds would be redeemable after January 1, 1826. They **sold at 88 percent** face value. **\\\\$ 18,109,377.43** was issued [1]. \n",
    "\n",
    "### Marketing and Buyers\n",
    "\n",
    "Banking institutions did not buy the bonds. Potential buyers were scared of America losing the war. By March, the loan had a shortfall of \\$ 10 million. Therefore, Gallatin began relying on wealthy individuals to make up for the deficit. \n",
    "\n",
    "**Stephen Girard**: He was a French native, banker, and financier. He operated a private bank in Philadelphia out of the First BUS building. He remained friends with Secretary Gallatin. He agreed to help make up for the \\\\$ 10 million shortfall. His decision increased public confidence [2]. \n",
    "\n",
    "**David Parish**: He was an agent of a Philadelphia banking house and son of Parish and Company, a firm from Hamburg, Germany. He had experience in underwriting securities and forming syndicates [4]. He made most of his wealth from land speculation [3]. \n",
    "\n",
    "**John Jacob Astor**: He was an immigrant from Germany who lived in New York City. He made his money from the fur trade, selling opium to China, and real estate. He was the first member of the powerful Astor family to live in America [4]. He was also one of the richest men in America [5]. \n",
    "\n",
    "Girard, Parish, and Astor agreed to form a syndicate. They purchased \\\\$ 10.1 million worth of 6 percent bonds at \\\\$ 88 discounted. Girard and Parish's personal shares were \\\\$ 3.1 million and Astor's was \\\\$ 1.5 million. The three syndicate members hired at least seven firms from Phildadelphia, New York, and Baltimore to purchase the remaining \\\\$ 2.4 million. The syndicate did not bear any financial risk and they would market their combined total of \\\\$ 7.7 million, earning \\\\$ 11,510 in commissions [4].  \n",
    "\n",
    "#### Sources\n",
    "- [1] *The National Loans of the United States From July 4, 1776 to June 30, 1880* by Richard Bayley\n",
    "- [2] *Girard to the Rescue: Stephen Girard and the War Loan of February 8, 1813* by Mark T. Hensen\n",
    "- [3] [David Parish](https://en.wikipedia.org/wiki/David_Parish)\n",
    "- [4] American Public Finance and Financial Services 1700-1815 by Edwin J. Perkins (331) \n",
    "- [5] [John Jacob Astor](https://en.wikipedia.org/wiki/John_Jacob_Astor)"
   ]
  },
  {
   "cell_type": "code",
   "execution_count": null,
   "metadata": {},
   "outputs": [],
   "source": [
    "# Sixteen million loan of 1813 \n",
    "sixteen_mil_prices = bond_price[bond_price[\"L1 ID\"] == 20052] \n",
    "sixteen_mil_melted = melt_clean_price(sixteen_mil_prices) # clean and melt (reformat) dataframe \n",
    "sixteen_mil = graph(sixteen_mil_melted, 'Market Price of Sixteen Million Loan of 1813 (1813-1828)', \"Price\") \n",
    "\n",
    "# historical annotations \n",
    "add_marker(sixteen_mil, 'Burning of Washington DC (Aug. 24, 1814)', \"1814-7-24\", 84, 7)\n",
    "add_marker(sixteen_mil, 'Battle of New Orleans (Jan. 8, 1815)', \"1815-1-08\", 75, 7) \n",
    "# Panic of 1819 \n",
    "add_period(sixteen_mil, \"1819\", \"1822\")\n",
    "sixteen_mil.text(pd.Timestamp(\"1820-06\"), 90, 'Panic of 1819', horizontalalignment='center')\n",
    "\n",
    "sixteen_mil.show()"
   ]
  },
  {
   "cell_type": "markdown",
   "metadata": {},
   "source": [
    "The market price for 1813 six percent bonds is almost identical to the 1812 six percent stock (old and exchanged); these bonds traded at the same time. There are differences. The data for the 1813 bonds begins one month later (in June compared to May for the 1812 bonds). The data continues the 1812 six percent since the 1813 bonds were redeemable a year (1826) later than the 1812 six percent bonds (1825). "
   ]
  },
  {
   "cell_type": "code",
   "execution_count": null,
   "metadata": {},
   "outputs": [],
   "source": [
    "# quantities \n",
    "sixteen_mil_quant = bond_quant[bond_quant[\"L1 ID\"] == 20052]\n",
    "clean_sixteen_mil_quant = clean_quant(sixteen_mil_quant)\n",
    "total_outstanding = reformat_quant(clean_sixteen_mil_quant, \"Total Outstanding\")\n",
    "# print(total_outstanding)\n",
    "total_outstanding_plot = graph(total_outstanding, \"Total Outstanding of Sixteen Million Loan of 1813 (1813-1839)\", \"Quant\") \n",
    "\n",
    "add_marker(total_outstanding_plot, 'Commissioners of sinking fund purchase stock at par (1817)', \"1817-8-30\", 16.5e6, 8)\n",
    "add_marker(total_outstanding_plot, 'Redeemed: exchanged for 4.5% stock (Act of May 26, 1824)', \"1824-11-30\", 14e6, 8)\n",
    "add_marker(total_outstanding_plot, 'Redeemed: exchanged for 4.5% stock (Act of March 3, 1825)', \"1826-8-20\", 11.75e6, 8)\n",
    "\n",
    "\n",
    "total_outstanding_plot.show()\n",
    "sixteen_mil_quant = total_outstanding "
   ]
  },
  {
   "cell_type": "markdown",
   "metadata": {},
   "source": [
    "A total of \\\\$ 18,109,377 million was issued. The additional \\\\$ 2,109,377.43 came from the fact the bond was sold at a discount. The decrease in total outstanding from June to September 1817 overlaps with a decrease in total outstanding during that same time period for the 1812 six percent bonds (-\\\\$ 2,580,943.7). According to Bayley, in 1817, the commissioners of the sinking fund purchased \\\\$ 2,580,943.7 at par. For the other decreases in the years following, acts by Congress in 1822, 1824, and 1825 saw the amount redeemed exchanged for new interest-bearing stocks. "
   ]
  },
  {
   "cell_type": "markdown",
   "metadata": {},
   "source": [
    "## Seven and One-Half Million Loan of 1813 "
   ]
  },
  {
   "cell_type": "markdown",
   "metadata": {},
   "source": [
    "### Overview and Features\n",
    "Congress authorized a loan of **\\\\$ 7.5 million** on August 2, 1813. The bonds sold at **88.25% face value**, a discount. They could not be sold less than \\$ 88. Buyers could redeem them after Jan. 1, 1826. Congress set a fixed interest rate of **6%** and interest paid **quarterly** [1]. \n",
    "\n",
    "Secretary of the Navy William Jones became acting Treasury Secretary in May, 1814. Jones requested a long-term loan because he feared that Treasury notes could depreciate [1]. Congress set aside \\\\$ 8 million for interest payments and reimbursement [2]. Jones sold \\$ 8.5 million worth of the bonds at a discount. Gallatin stated the bonds sold quicker than the \\\\$ 16 million loan in 1812 [3]. According to Jones, the entire loan had been subscribed by the first months of 1814 [3]. The final redemption occurred on August 2, 1845 [1]. \n",
    "\n",
    "### Marketing and Buyers\n",
    "Agents earned a commission of 1/4th of a cent [1]. The commission provided an incentive for individuals and banks to market the loan. The bond sold at a ~12% discount to try and attract more buyers. New England was not considered a willing market for these bonds due to opposition to the war. Southern states, south of Baltimore, did not have properly organized capital markets to facilitate these bonds. The government chose not to ask for help from outside financiers such as Girard, Astor, or Parish [4].  \n",
    "\n",
    "#### Sources\n",
    "- [1] *The National Loans of the United States From July 4, 1776 to June 30, 1880* by Richard Bayley\n",
    "- [2] <I>An Act authorizing a loan for a sum not exceeding seven millions five hundred thousand dollars.</I> by Thirteenth Congress\n",
    "- [3] <I>The Financial History of the War of 1812</I> by Lisa R. Morales\n",
    "- [4] <I>American Public Finance and Financial Services 1700-1815</i> by Edwin J. Perkins (332) "
   ]
  },
  {
   "cell_type": "code",
   "execution_count": null,
   "metadata": {},
   "outputs": [],
   "source": [
    "# seven and one-half million loan of 1813 \n",
    "seven_one_half_prices = bond_price[bond_price[\"L1 ID\"] == 20054] \n",
    "seven_one_half_melted = melt_clean_price(seven_one_half_prices) # clean and melt (reformat) dataframe \n",
    "seven_one_half = graph(seven_one_half_melted, 'Market Price of Seven and One-Half Million Loan of 1813 (1813-1828)', \"Price\") \n",
    "\n",
    "# historical annotations \n",
    "add_marker(seven_one_half, 'Burning of Washington DC (Aug. 24, 1814)', \"1814-7-24\", 84, 7)\n",
    "add_marker(seven_one_half, 'Battle of New Orleans (Jan. 8, 1815)', \"1815-1-08\", 75, 7) \n",
    "# Panic of 1819 \n",
    "add_period(seven_one_half, \"1819\", \"1822\")\n",
    "seven_one_half.text(pd.Timestamp(\"1820-06\"), 90, 'Panic of 1819', horizontalalignment='center')\n",
    "\n",
    "seven_one_half.show()"
   ]
  },
  {
   "cell_type": "markdown",
   "metadata": {},
   "source": [
    "The market price of the bonds were identical to the previous Sixteen Million Loan of 1813. These bonds shared the same features and redemption date. Therefore, they must had been grouped and traded together. "
   ]
  },
  {
   "cell_type": "code",
   "execution_count": null,
   "metadata": {},
   "outputs": [],
   "source": [
    "# quantities \n",
    "seven_one_half_quant = bond_quant[bond_quant[\"L1 ID\"] == 20054]\n",
    "clean_seven_one_half_quant = clean_quant(seven_one_half_quant)\n",
    "#print(clean_seven_one_half_quant) \n",
    "total_outstanding = reformat_quant(clean_seven_one_half_quant, \"Total Outstanding\")\n",
    "#print(total_outstanding)\n",
    "total_outstanding_plot = graph(total_outstanding, \"Total Outstanding of Seven and One-Half Million Loan of 1813 (1813-1839)\", \"Quant\") \n",
    "\n",
    "add_marker(total_outstanding_plot, 'Commissioners of sinking fund purchase stock at par (1817)', \"1817-8-30\", 7.7e6, 8)\n",
    "add_marker(total_outstanding_plot, 'Redeemed: exchanged for 4.5% stock (under Act of May 26, 1824)', \"1824-11-30\", 6.5e6, 8)\n",
    "add_marker(total_outstanding_plot, 'Redeemed: exchanged for 4.5% stock (under Act of March 3, 1825)', \"1826-8-30\", 3e6, 8)\n",
    "\n",
    "total_outstanding_plot.show()\n",
    "\n",
    "public_holdings = reformat_quant(clean_seven_one_half_quant, \"Public Holdings\")\n",
    "seven_one_half_quant = total_outstanding \n",
    "#public_holdings_plot = graph_quant(public_holdings, \"Public Holdings of Exchanged Six Percent Stock (1812-1817)\") \n",
    "#public_holdings_plot.show()"
   ]
  },
  {
   "cell_type": "markdown",
   "metadata": {},
   "source": [
    "The total outstanding follows a similar trend to the two previous long-term six percent bonds. There is a decrease in total oustanding from June to September, 1817. This aligns with Bayley's note that the comissioners of the sinking fund purchased \\\\$ 1,662,349.56 at par during the same time period. The commissioners of the sinking fund also purchased large amounts of the two previous long-term bonds during the same time. The decreases in total oustanding in 1824, 1825, and 1826 were due to acts of Congress that exchanged the amount redeemed for new 4.5% stock. Congress didn't want to pay the 6% stocks that were due in 1826 since the amount was too great. Therefore, they offered these new 4.5% stock payable in 1829 and 1830 to lessen the burden of themselves. However, these new stocks turned out to be a failure, with only one-tenth being sold of what was expected. \n",
    "\n",
    "Source: [The 1825 Stock Exchange Flop](https://www.stateoftheunionhistory.com/2018/03/1825-john-quincy-adams-1825-stock.html) "
   ]
  },
  {
   "cell_type": "markdown",
   "metadata": {},
   "source": [
    "## Six Percent Loans of 1814"
   ]
  },
  {
   "cell_type": "markdown",
   "metadata": {},
   "source": [
    "### Overview and Features\n",
    "In 1814, the Treasury reported an estimated \\\\$ 29.4 million deficit. In addition, previous funds raised from bonds in 1813 had all been used up in fighting in Canada. Therefore, Congress authorized a long-term loan of \\$ 25 million on March 24, 1814. Different amounts of the loan would be raised at different times in the hopes of getting more subscribers [1].  \n",
    "\n",
    "<b>Ten Million Stock:</b>\n",
    "Redeemable after December 31, 1826. It sold at a discount of **80 percent face value**. Interest rate was set at **6 percent** in **quarterly** payments on January, April, July, and October. Agents received a commission of 1/4th of one cent sold. Congress appropriated \\$ 8 million to reimburse and pay interest on the loan. \n",
    "Amount of Stock Issued (Ten Million Loan): <b>\\$ 9,919,476.25</b> [1].\n",
    "\n",
    "<b>Six Million Stock:</b>\n",
    "Same features as the Ten Million Stock. \n",
    "Amount of Stock Issued (Six Million Loan): <b>\\$ 5,384,134.87</b> [1].\n",
    "\n",
    "<b>Undesignated Stock</b>\n",
    "For the most part, the same features as the Six Million and Ten Million Stock. However, stocks sold anywhere between **80-95% face value**. \n",
    "Amount of Stock Issued (Undesignated Loan): <b>\\$ 746,403.31</b>\n",
    "[1]. \n",
    "\n",
    "### Marketing and Buyers \n",
    "<b>Ten Million Loan:</b> Treasury Secretary George W. Campbell realized he would struggle to raise \\\\$ 25 million at once. He decided to raise \\\\$ 10 million first. He received offers totaling \\\\$ 11.9 million without relying on loan contractors. He sold \\\\$ 9.2 million at \\\\$ 88 per subscription. He ignored the remaining \\\\$ 2.7 million since they offered less per subscription [1][2]. Jacob Barker, a successful New York merchant, purchased \\\\$ 5 million worth of bonds (half of the total 10 million). Barker used a leveraged transaction to buy them; Barker sought loans from banks in the northeast to purchase the bonds and used the bonds as collateral [2]. \n",
    "\n",
    "<b>Six Million Loan:</b> A new proposal of \\$ 6 million was offered beginning July 25, 1814. Bonds were sold at a discount of 20 percent. Due to the discount, the Treasury offered a rebate to the original buyers of the Ten Million Loan at a rate of \\\\$ 10 per hundred of stock held. Thus, the Treasury protected initial buyers from the price decrease. Agents earned commissions of 1/4th of one percent on any subscriptions over \\\\$ 25000 [1]. **Six Philadelphia banks** took \\\\$ 250,000 for Philadelphia's military defenses. **Seven Baltimore banks** took \\\\$ 675,000 for their city's defenses [1]. British forces would capture Washington DC that August and launch an assault on Baltimore in September [5]. The **corporation of New York City** subscribed to \\\\$ 1,100,000.87 worth of stocks for supplies and reinforcements of the city. Bayley also mentions the Baltimore committee of vigilance and safety and the Planters' Bank of Savannah as buyers [1]. Overall, the six million stock failed to sell due to the British invasion during the Chesapeake campaign. Therefore, \\\\$ 3 million were sent to Europe for sale, most likely to **David Parish** in Hamburg, Germany [2]. \n",
    "\n",
    "<b>Undesignated Loan:</b> Subscriptions were obtained through contracts with corporations and banks. The contracts would have allowed specific terms to be negotiated, such as selling price. Several **corporations in Baltimore** subscribed to \\\\$ 150,000 of bonds to build a steam frigate to defend the city's port. The **Bank of Pennsylvania** subscribed to \\\\$ 43,222. The **Bank of Columbia** subscribed to \\\\$ 25000 and \\\\$ 100,000 from the Mechanics' Bank of Alexandria. \n",
    "\n",
    "\n",
    "Bank of Columbia: located in the Washington DC (District of Columbia) \\\n",
    "Bank of Pennsylvania: established in 1793 and located in Philadelphia [4]. <br> \n",
    "Mechanics' Bank of Alexandria: chartered by Congress [2]; first incorporated in Alexandria, Virginia by an act of Congress in 1812 [3].  \n",
    "\n",
    "#### Sources\n",
    "- [1] *The National Loans of the United States From July 4, 1776 to June 30, 1880* by Richard Bayley\n",
    "- [2] <i>American Public Finance and Financial Services 1700-1815</i> by Edwin J. Perkins (334)\n",
    "- [3] <i>An Act to incorporate a Bank in the town of Alexandria, by the name and style of the Mechanics' Bank of Alexandria</i> by Twelfth Congress\n",
    "- [4] *A History of Pennsylvania. Penn State Press.* by Philip Shriver Klein and Ari Hoogenboom (273)\n",
    "- [5] [Battle of Baltimore by National Park Service](https://www.nps.gov/fomc/learn/historyculture/battle-of-baltimore.htm)"
   ]
  },
  {
   "cell_type": "code",
   "execution_count": null,
   "metadata": {},
   "outputs": [],
   "source": [
    "# 10 mil loan of 1814 \n",
    "six_percent_prices = bond_price[bond_price[\"L1 ID\"] == 20056] \n",
    "six_percent_melted = melt_clean_price(six_percent_prices) # clean and melt (reformat) dataframe \n",
    "six_percent = graph(six_percent_melted, \"Market Price of Six Percent Loans (1817-1829)\", \"Price\") \n",
    "add_marker(six_percent, 'First redemption (April, 1817)', \"1817-1-31\", 100, 8)\n",
    "\n",
    "# Six Percent Loans of 1814\n",
    "add_period(seven_one_half, \"1819\", \"1822\")\n",
    "seven_one_half.text(pd.Timestamp(\"1820-06\"), 102, 'Panic of 1819', horizontalalignment='center')\n",
    "\n",
    "six_percent.show()"
   ]
  },
  {
   "cell_type": "markdown",
   "metadata": {},
   "source": [
    "Since all three stocks were technically issued as part of one larger \\$ 25 million loan, the market price of all three bonds are the same. "
   ]
  },
  {
   "cell_type": "code",
   "execution_count": null,
   "metadata": {},
   "outputs": [],
   "source": [
    "# create an interactive scatter plot of quantity data \n",
    "def generate_quant_plot(quant_df, title, axis):\n",
    "    axis.plot(quant_df[\"Timestamp\"], quant_df[\"Quant\"])\n",
    "    # c_quant_df = quant_df.drop_duplicates(subset=[\"Quant\"], keep=\"last\") # drop duplicate points to keep graph minimalist \n",
    "    quant_scatplot = axis.scatter(data=quant_df, x='Timestamp', y='Quant', marker='o')\n",
    "    axis.title.set_text(title)\n",
    "\n",
    "    # reformat y-axis to be in millions, not tens of millions\n",
    "    if quant_df[\"Quant\"].max() > 1e6:\n",
    "        axis.yaxis.set_major_formatter(FuncFormatter(lambda x, _: '{:.0f}'.format(x / 1e6)))\n",
    "        plt.ylabel('Total Outstanding (millions)')\n",
    "    else: # otherwise use hundred thousands label \n",
    "        axis.yaxis.set_major_formatter(FuncFormatter(lambda x, _: '{:.0f}'.format(x / 1e5)))\n",
    "        plt.ylabel('Total Outstanding (hundred thousands)')\n",
    "        \n",
    "    show_hover_panel(quant_df, quant_scatplot, on_add) # add mouse hovering "
   ]
  },
  {
   "cell_type": "code",
   "execution_count": null,
   "metadata": {},
   "outputs": [],
   "source": [
    "# ten million loan\n",
    "ten_mil_quant = bond_quant[bond_quant[\"L1 ID\"] == 20056]\n",
    "ten_mil_quant = clean_quant(ten_mil_quant)\n",
    "ten_mil_quant = reformat_quant(ten_mil_quant, \"Total Outstanding\")\n",
    "\n",
    "# six million loan \n",
    "six_mil_1814_quant = bond_quant[bond_quant[\"L1 ID\"] == 20057]\n",
    "six_mil_1814_quant = clean_quant(six_mil_1814_quant)\n",
    "six_mil_1814_quant = reformat_quant(six_mil_1814_quant, \"Total Outstanding\")\n",
    "\n",
    "# undesignated loan \n",
    "undesignated_1814_quant = bond_quant[bond_quant[\"L1 ID\"] == 20058]\n",
    "undesignated_1814_quant = clean_quant(undesignated_1814_quant)\n",
    "undesignated_1814_quant = reformat_quant(undesignated_1814_quant, \"Total Outstanding\")\n",
    "\n",
    "# Create subplots of outstanding debt \n",
    "fig, ax = plt.subplots(nrows=3, ncols=1, figsize=(10, 10))\n",
    "\n",
    "generate_quant_plot(ten_mil_quant, \"Total Outstanding of Ten Million Loan of 1814 (1814-1839)\", ax[0])\n",
    "generate_quant_plot(six_mil_1814_quant, \"Total Outstanding of Six Million Loan of 1814 (1814-1834)\", ax[1])\n",
    "generate_quant_plot(undesignated_1814_quant, \"Total Outstanding of Undesignated Loan of 1814 (1814-1834)\", ax[2])\n",
    "\n",
    "fig.tight_layout()"
   ]
  },
  {
   "cell_type": "code",
   "execution_count": null,
   "metadata": {},
   "outputs": [],
   "source": [
    "# Group six percent loans quantities into one dataframe \n",
    "six_percent_loans_1814 = pd.concat([ten_mil_quant.copy(), six_mil_1814_quant.copy(), undesignated_1814_quant.copy()])\n",
    "six_percent_loans_1814.reset_index(drop=True, inplace=True)\n",
    "# Merge rows with the same timestamps, add Quants \n",
    "six_percent_loans_1814_quant = six_percent_loans_1814.groupby(\"Timestamp\", as_index=False).aggregate({\"Quant\":\"sum\"}) "
   ]
  },
  {
   "cell_type": "markdown",
   "metadata": {},
   "source": [
    "### Visualizing Total Oustanding \n",
    "\n",
    "The stacked area plot will help compare total amount outstanding between different bonds. Instead of having every bond and note on one chart, we chose the following bonds and notes below and grouped the rest in an 'Other' category. By doing so, the graph remains readable and useful. \n",
    "\n",
    "1. Treasury Notes 1812-1814: There were four separate issues of treasury notes. We decided to group all four issues into one category because the notes in themselves were different from the long-term bonds issued by Congress. Notes were short-term bonds. Therefore, by grouping them together, it becomes easier to compare the quantity of short-term bonds against long-term bonds at any given point. \n",
    "2. Sixteen Million Loan of 1813: Based on the research, the Sixteen Million Loan was one of the most important long-term bonds issued by Congress during the war because, according to Perkins, it was the first time the government relied on outside financiers for \"investment banking functions\". The primary purchasers were not many individuals, but a syndicate consisting of Astor, Parish, and Girard.\n",
    "3. Six Percent Loan of 1812: The first loan authorized by Congress in regards to the War of 1812. Therefore, it would be useful to compare total outstanding of the Six Percent stock compared to notes and loans that were issued later, to see if the amount oustanding for every note/bond increased or decreased as time went on. "
   ]
  },
  {
   "cell_type": "code",
   "execution_count": null,
   "metadata": {},
   "outputs": [],
   "source": [
    "# group treasury notes into one dataframe \n",
    "# Combine all treasury notes into one dataframe \n",
    "treasury_notes_combined = pd.concat([treasury_notes_1812_quant.copy(), treasury_notes_1813_quant.copy(), treasury_notes_1814_quant.copy()])\n",
    "treasury_notes_combined.reset_index(drop=True, inplace=True)\n",
    "# Merge rows with the same timestamps, add Quants \n",
    "treasury_notes_combined = treasury_notes_combined.groupby(\"Timestamp\", as_index=False).aggregate({\"Quant\":\"sum\"}) "
   ]
  },
  {
   "cell_type": "code",
   "execution_count": null,
   "metadata": {},
   "outputs": [],
   "source": [
    "# Combine all other long-term loans into a separate dataframe \n",
    "other_loans = [\n",
    "    six_percent_loans_1814_quant,\n",
    "    seven_one_half_quant,\n",
    "    exchanged_six_quant\n",
    "]\n",
    "others_combined = pd.concat(other_loans)\n",
    "others_combined.reset_index(drop=True, inplace=True)\n",
    "\n",
    "# Merge rows with the same timestamps, add Quants \n",
    "others_combined = others_combined.groupby(\"Timestamp\").aggregate({\"Quant\":\"sum\"})"
   ]
  },
  {
   "cell_type": "code",
   "execution_count": null,
   "metadata": {},
   "outputs": [],
   "source": [
    "import matplotlib.pyplot as plt\n",
    "import numpy as np\n",
    "import matplotlib.ticker as mticker\n",
    "import matplotlib.ticker as ticker\n",
    "import matplotlib.dates as mdates\n",
    "\n",
    "# Close all plots \n",
    "plt.clf()\n",
    "\n",
    "# reformat dataframe for easier concatenation \n",
    "copy_sixteen_mil = sixteen_mil_quant\n",
    "copy_sixteen_mil = copy_sixteen_mil.set_index(\"Timestamp\") \n",
    "\n",
    "copy_treasure_notes = treasury_notes_combined\n",
    "copy_treasure_notes = copy_treasure_notes.set_index(\"Timestamp\") \n",
    "\n",
    "copy_six_percent_1812 = six_percent_1812_quant\n",
    "copy_six_percent_1812 = copy_six_percent_1812.set_index(\"Timestamp\") \n",
    "\n",
    "combined = pd.concat([copy_sixteen_mil, copy_treasure_notes, copy_six_percent_1812, others_combined.copy()], axis=1)\n",
    "combined.columns.values[0] = \"Sixteen Million Loan 1813\"\n",
    "combined.columns.values[1] = \"Treasury Notes 1812-1814\"\n",
    "combined.columns.values[2] = \"Six Percent Loan 1812\"\n",
    "combined.columns.values[3] = \"Other Long-Term Bonds\"\n",
    "combined = combined.reset_index()\n",
    "\n",
    "years = combined.index.tolist()\n",
    "# Set the Seaborn style\n",
    "sns.set(style=\"darkgrid\")\n",
    "\n",
    "# Plotting\n",
    "f_plot = combined.plot(x=\"Timestamp\", kind='area', stacked=True, figsize=(10, 6), legend=False, color=[\"#fd7f6f\", \"#7eb0d5\", \"#b2e061\", \"#bd7ebe\"])\n",
    "\n",
    "# set x axis tick marks manually\n",
    "years = pd.date_range(start='1812', end='1839', freq='2YE').year\n",
    "plt.xticks(pd.to_datetime(years, format='%Y'))\n",
    "ax = plt.gca()\n",
    "labels = ['1812', '1814', '1816', '1818', '1820', '1822', '1824', '1826', '1828', '1830', '1832', '1834', '1836', '1838'] \n",
    "ax.set_xticklabels(labels)\n",
    "\n",
    "# set monthly locator\n",
    "f_plot.yaxis.set_major_formatter(FuncFormatter(lambda x, _: '{:.1f}'.format(x / 1e7))) # Removes '1e7' from axis \n",
    "f_plot.yaxis.set_ticks(np.arange(0, 7e7, 5e6)) \n",
    "\n",
    "# Adding labels and title\n",
    "plt.xlabel('Year')\n",
    "plt.ylabel('Total Outstanding (million)')\n",
    "plt.title('Total Outstanding Over Time by Debt Type')\n",
    "plt.legend(loc='upper right')\n",
    "\n",
    "# Display the plot\n",
    "plt.show()"
   ]
  }
 ],
 "metadata": {
  "kernelspec": {
   "display_name": "Python 3 (ipykernel)",
   "language": "python",
   "name": "python3"
  },
  "language_info": {
   "codemirror_mode": {
    "name": "ipython",
    "version": 3
   },
   "file_extension": ".py",
   "mimetype": "text/x-python",
   "name": "python",
   "nbconvert_exporter": "python",
   "pygments_lexer": "ipython3",
   "version": "3.12.4"
  }
 },
 "nbformat": 4,
 "nbformat_minor": 4
}
