























import pandas as pd
import matplotlib.pyplot as plt


# load data
bond_h5 = pd.HDFStore("data/BondDF.h5", mode="r")
bond_price = bond_h5["BondPrice"]
bond_h5.close()


# helper data structures
l1_ids_of_interest = [20021, 20022, 20023]
bond_names = {
    20021: "Six Per Cent Stock of 1790",
    20022: "Deferred Six Per Cent Stock of 1790",
    20023: "Three Per Cent Stock of 1790"
}


# data cleaning
bond_price.reset_index(inplace=True)
bond_price['Date'] = pd.to_datetime(bond_price['index'], errors='coerce')
bond_price.set_index('Date', inplace=True)
bond_price.drop(columns=['index'], inplace=True)


# create debt dataframes
federal_debt = []
state_debt = []

for date in bond_price.index.unique():
    six_percent_price = bond_price.loc[date, (20021, 'Average')]
    deferred_six_percent_price = bond_price.loc[date, (20022, 'Average')]
    three_percent_price = bond_price.loc[date, (20023, 'Average')]
    
    if pd.notna(six_percent_price) and pd.notna(deferred_six_percent_price) and pd.notna(three_percent_price):
        federal_price = (2/3 * six_percent_price) + (1/3 * deferred_six_percent_price)
        state_price = (4/9 * six_percent_price) + (2/9 * deferred_six_percent_price) + (3/9 * three_percent_price)
        federal_debt.append({'Date': date, 'Price': federal_price})
        state_debt.append({'Date': date, 'Price': state_price})

federal_debt_df = pd.DataFrame(federal_debt)
state_debt_df = pd.DataFrame(state_debt)



import matplotlib.pyplot as plt

def plot_combined_prices(bond_price, l1_ids_of_interest, bond_names, federal_debt_df, state_debt_df):
    
    plt.figure(figsize=(14, 12))  # set the size of the graph
    
    # plotting the prices of the three stocks over time
    plt.subplot(2, 1, 1)
    for l1_id in l1_ids_of_interest:
        bond_data = bond_price[(l1_id, 'Average')].dropna() # drop any missing values
        plt.plot(bond_data.index, bond_data.values, label=bond_names[l1_id]) # add labels to the stocks
    plt.axvline(pd.to_datetime('1801-02-01'), color='red', linestyle='--', linewidth=1)
    plt.title('Prices of Selected Stocks Over Time')
    plt.xlabel('Date')
    plt.ylabel('Price')
    plt.legend()
    plt.grid(True)
    
    # plotting the prices of the state + federal debt; basically the same process as the other graph
    plt.subplot(2, 1, 2)
    plt.plot(federal_debt_df['Date'], federal_debt_df['Price'], label='Federal Debt', linestyle='--', color='b')
    plt.plot(state_debt_df['Date'], state_debt_df['Price'], label='State Debt', linestyle='--', color='r')
    plt.title('Prices of Federal and State Debt Over Time')
    plt.xlabel('Date')
    plt.ylabel('Price')
    plt.legend()
    plt.grid(True)
    
    plt.tight_layout()
    plt.show()


plot_combined_prices(bond_price, l1_ids_of_interest, bond_names, federal_debt_df, state_debt_df)






