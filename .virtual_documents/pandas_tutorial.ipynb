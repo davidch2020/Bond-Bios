import pandas as pd
import numpy as np


Bondh5 = pd.HDFStore("data/BondDF.h5", mode="r")
print(Bondh5)
BondList = Bondh5["BondList"]
BondQuant = Bondh5["BondQuant"]
BondPrice = Bondh5["BondPrice"]
Bondh5.close()


BondList


BondList.loc[(BondList['Category L3'] == "Liberty Loan")]


#iloc: row by column
BondList.iloc[0, 0]


#"mask" (series of booleans)
print(type(BondList['Category L3'] == "Liberty Loan"))
BondList['Category L3'] == "Liberty Loan"


def function(x):
    print(x["Authorizing Act"])

lambda x: print(x["Authorizing Act"])


BondList.apply(lambda x: print(x["Authorizing Act"]), axis=1)


BondList.columns


BondList['Category L3'] == "Liberty Loan"
