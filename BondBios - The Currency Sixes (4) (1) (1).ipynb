{
 "cells": [
  {
   "cell_type": "markdown",
   "id": "2b4d48c3",
   "metadata": {},
   "source": [
    "# Bond Biography: The Currency Sixes\n",
    "\n",
    "## Overview: \n",
    "The Currency Sixes bonds were instrumental in financing the construction of the Transcontinental Railroads in the United States. These bonds played a crucial role in the economic development of the country during the 19th century. *(Crocker, 2014)*\n",
    "\n",
    "## Features of the Bond: \n",
    "- **Issue Date:** The Currency Sixes were issued between 1862 and 1869.\n",
    "- **Coupon Rate:** These bonds had a coupon rate of 6%, paid semi-annually.\n",
    "- **Maturity Date:** The bonds had varied maturity dates, typically ranging from 10 to 30 years.\n",
    "- **Principal Value:** The bonds were typically issued with a principal value of $1,000.\n",
    "- **Call Features:** The bonds were callable after 10 years. *(Crocker, 2014)*"
   ]
  },
  {
   "cell_type": "code",
   "execution_count": 6,
   "id": "f9edaf83",
   "metadata": {
    "tags": []
   },
   "outputs": [],
   "source": [
    "import pandas as pd\n",
    "import matplotlib.pyplot as plt\n",
    "from matplotlib.dates import DateFormatter, YearLocator\n",
    "from ipywidgets import interact, widgets, fixed\n",
    "import numpy as np"
   ]
  },
  {
   "cell_type": "code",
   "execution_count": null,
   "id": "53badf13",
   "metadata": {
    "tags": []
   },
   "outputs": [
    {
     "name": "stderr",
     "output_type": "stream",
     "text": [
      "/opt/anaconda3/lib/python3.11/site-packages/openpyxl/worksheet/_read_only.py:79: UserWarning: Unknown extension is not supported and will be removed\n",
      "  for idx, row in parser.parse():\n",
      "/opt/anaconda3/lib/python3.11/site-packages/openpyxl/worksheet/_read_only.py:79: UserWarning: Unknown extension is not supported and will be removed\n",
      "  for idx, row in parser.parse():\n"
     ]
    }
   ],
   "source": [
    "prices_file_path = 'data/Macaulay_table2_railroad_bond_prices.xlsx'\n",
    "yields_file_path = 'data/Macaulay_table3_railroad_bond_yields.xlsx'\n",
    "\n",
    "bond_prices = pd.read_excel(prices_file_path)\n",
    "bond_yields = pd.read_excel(yields_file_path)\n",
    "\n",
    "bond_quant = pd.read_csv('data/BondQuant.csv')\n",
    "dates = bond_quant.columns[2:]\n",
    "bond_quant_long = pd.melt(bond_quant, id_vars=['L1 ID', 'Series'], value_vars=dates, var_name='Date', value_name='Quantity')\n",
    "bond_quant_long['Date'] = pd.to_datetime(bond_quant_long['Date'])\n",
    "bond_quant_filtered = bond_quant_long[bond_quant_long['L1 ID'] == 40007]\n",
    "\n",
    "# function to clean data by dropping first row, creating a year column, converting columns to numeric and more.\n",
    "def clean_bond_data(df):\n",
    "    df = df.drop(0)\n",
    "    df['Unnamed: 0'].fillna(method='ffill', inplace=True)\n",
    "    df.rename(columns={'Unnamed: 0': 'Year'}, inplace=True) \n",
    "    df['No.'] = df['No.'].str.replace('Febuary', 'February')\n",
    "    df['Date'] = pd.to_datetime(df['Year'].astype(str) + ' ' + df['No.'], errors='coerce')\n",
    "    numeric_columns = [col for col in df.columns if col not in ['Year', 'No.', 'Date', 'Unnamed: 89']]\n",
    "    df[numeric_columns] = df[numeric_columns].apply(pd.to_numeric, errors='coerce')\n",
    "    return df\n",
    "\n",
    "bond_prices = clean_bond_data(bond_prices)\n",
    "bond_yields = clean_bond_data(bond_yields)"
   ]
  },
  {
   "cell_type": "code",
   "execution_count": null,
   "id": "065cf044",
   "metadata": {
    "tags": []
   },
   "outputs": [],
   "source": [
    "notable_events = [\n",
    "    {'date': '1862-07-01', 'event': 'Pacific Railway Act'},\n",
    "    {'date': '1864-07-02', 'event': '1864 Amendment'},\n",
    "    {'date': '1869-05-10', 'event': 'Completion of Transcontinental Railroad'},\n",
    "    {'date': '1873-09-18', 'event': 'Panic of 1873'}\n",
    "]\n",
    "\n",
    "# adding notable events to bond prices and yields dataframes\n",
    "def add_notable_events(df, events):\n",
    "    for event in events:\n",
    "        if pd.to_datetime(event['date']) not in df['Date'].values:\n",
    "            df = pd.concat([df, pd.DataFrame({'Date': [pd.to_datetime(event['date'])]})], ignore_index=True)\n",
    "    df = df.sort_values(by='Date').reset_index(drop=True)\n",
    "    df = df.interpolate()\n",
    "    return df\n",
    "\n",
    "bond_prices = add_notable_events(bond_prices, notable_events)\n",
    "bond_yields = add_notable_events(bond_yields, notable_events)"
   ]
  },
  {
   "cell_type": "markdown",
   "id": "f259405d",
   "metadata": {},
   "source": [
    "## Purpose of Issuance: \n",
    "The primary purpose of issuing the Currency Sixes was to fund the construction of the Transcontinental Railroads, which were essential for connecting the eastern and western United States. This infrastructure project facilitated trade, travel, and economic expansion across the country. *(Crocker, 2014)*"
   ]
  },
  {
   "cell_type": "code",
   "execution_count": null,
   "id": "3478ebc2-eff7-458e-8db8-72c3ea4693e5",
   "metadata": {
    "tags": []
   },
   "outputs": [],
   "source": [
    "def plot_bond_quantities():\n",
    "    plt.figure(figsize=(14, 7))\n",
    "    plt.plot(pd.to_datetime(bond_quant_filtered['Date']), bond_quant_filtered['Quantity'], label='Bond Quantity', linewidth=2)\n",
    "    plt.title('Quantity Trend for Currency Sixes Bond (L1 ID: 40007)', fontsize=16)\n",
    "    plt.xlabel('Date', fontsize=14)\n",
    "    plt.ylabel('Quantity', fontsize=14)\n",
    "    plt.legend(loc='upper right', fontsize=12)\n",
    "    plt.grid(True)\n",
    "    plt.gca().xaxis.set_major_locator(YearLocator())\n",
    "    plt.gca().xaxis.set_major_formatter(DateFormatter('%Y-%m'))\n",
    "    plt.xticks(rotation=45)\n",
    "    plt.tight_layout()\n",
    "    plt.show()\n",
    "\n",
    "plot_bond_quantities()"
   ]
  },
  {
   "cell_type": "markdown",
   "id": "7e2dcb09-5e22-4fc8-a9ca-6553fcacbe69",
   "metadata": {},
   "source": [
    "## Amount Authorized and Sold: \n",
    "Congress authorized a substantial amount of these bonds, with approximately $64 million in bonds being sold to finance the railroads. The total amount sold varied over the years, reflecting the ongoing funding needs of the railroad construction. *(Treasury Direct)*\n",
    "\n",
    "## Original Sale Price and Secondary Market Price History: \n",
    "The bonds were originally sold at par value, $1,000. The price trends of the Currency Sixes bonds show significant fluctuations over time, influenced by various factors including economic conditions, investor confidence, and the progress of the railroad projects. Prices in the secondary market varied, sometimes trading at a premium or discount to par value, depending on market conditions. *(Fleisig, 2010)*"
   ]
  },
  {
   "cell_type": "code",
   "execution_count": null,
   "id": "7efc3bb6",
   "metadata": {
    "tags": []
   },
   "outputs": [],
   "source": [
    "# function to plot average price\n",
    "def plot_average_price():\n",
    "    avg_price = bond_prices[[col for col in bond_prices.columns if col not in ['Year', 'No.', 'Date', 'Unnamed: 89']]].mean(axis=1)\n",
    "    plt.figure(figsize=(14, 7))\n",
    "    plt.plot(bond_prices['Date'], avg_price, label='Average Price', linewidth=2)\n",
    "    \n",
    "    for i, event in enumerate(notable_events):\n",
    "        event_date = pd.to_datetime(event['date'])\n",
    "        y_pos = avg_price[bond_prices['Date'] == event_date].values[0]\n",
    "        \n",
    "        # adjust text postiion so it doesn't block arrow\n",
    "        offset = 20 if i % 2 == 0 else -20\n",
    "        plt.annotate(event['event'], xy=(event_date, y_pos),\n",
    "                     xytext=(-10, offset), textcoords='offset points',\n",
    "                     bbox=dict(boxstyle=\"round,pad=0.3\", fc=\"white\", ec=\"black\", lw=1),\n",
    "                     arrowprops=dict(arrowstyle=\"->\", connectionstyle=\"arc3,rad=0.5\", color=\"black\"))\n",
    "\n",
    "    plt.title('Average Price Trend of Currency Sixes Bonds (Jul 1862 - Dec 1879)', fontsize=16)\n",
    "    plt.xlabel('Year', fontsize=14)\n",
    "    plt.ylabel('Average Price ($)', fontsize=14)\n",
    "    plt.legend(loc='upper right', fontsize=12)\n",
    "    plt.grid(True)\n",
    "    plt.gca().xaxis.set_major_locator(YearLocator(2))\n",
    "    plt.gca().xaxis.set_major_formatter(DateFormatter('%Y'))\n",
    "    plt.xticks(rotation=0, fontsize=12)\n",
    "    plt.yticks(fontsize=12)\n",
    "    plt.tight_layout()\n",
    "    plt.show()\n",
    "    \n",
    "plot_average_price()"
   ]
  },
  {
   "cell_type": "markdown",
   "id": "57f62871-8f71-41d4-8841-1296369705e8",
   "metadata": {},
   "source": [
    "## Notable Events Impact:\n",
    "After the Pacific Railway Act, the Transcontinental Railroad average bond prices increased due to the increased governmental aid that was provided. Because investing in a seemingly \"risky\" project was not appealing, by providing government backing, there was more credibility and reduced risk for investors. \n",
    "\n",
    "After the 1864 Amendment which provided more government support for the building and ultimate completion of the railroad, the average bond prices peaked and fell. Because there were more opportunities for railroad companies to issue more bonds and begin selling land associated with the tracks, there was increased speculation. Further, many railroad companies were tied up in the Credit Mobilier Scandal of 1864-1867 where executives at Union Pacific overcharged railroad construction fees and manipulated contracts *(History.com Editors, 2022)*. Concerned with the financial stability of these companies, this could be an explanation to the decline in average prices. "
   ]
  },
  {
   "cell_type": "markdown",
   "id": "cfe33bd1",
   "metadata": {},
   "source": [
    "## Redemption: \n",
    "The Currency Sixes were eventually redeemed by the U.S. government, typically at par value. The redemption of these bonds was a significant financial event, marking the completion of the funding for the Transcontinental Railroads. *(Crocker, 2014), (Vance, 2024)*\n",
    "\n",
    "## Investors (Done by AI till we get a concrete Source)\n",
    "\n",
    "The Currency Sixes were purchased by a variety of investors, each drawn by the security and stability offered by these bonds.\n",
    "\n",
    "### Financial Institutions\n",
    "- **Banks and Investment Firms**: Financial institutions were key purchasers of Currency Sixes. Banks and investment firms sought secure, government-backed investments to balance their portfolios. The first-mortgage status of these bonds provided a reliable return on investment, making them a preferred choice for institutions looking for stability.\n",
    "- **Risk Management**: For financial institutions, managing risk is crucial. Currency Sixes offered a low-risk investment with a guaranteed priority in repayment, which helped these institutions maintain a stable financial base.\n",
    "- **Portfolio Diversification**: These bonds were an essential part of portfolio diversification strategies, helping financial institutions mitigate risk across different asset classes.\n",
    "\n",
    "### Private Investors\n",
    "- **Wealthy Individuals**: Private investors, particularly wealthy individuals, were drawn to Currency Sixes for their long-term, stable returns. The secure nature of these bonds made them an ideal investment for individuals looking to preserve and grow their wealth with minimal risk.\n",
    "- **Stable Income**: Currency Sixes provided a reliable source of income, which was especially appealing to private investors seeking stable returns in uncertain economic times.\n",
    "- **Legacy Planning**: For many private investors, Currency Sixes were a part of legacy planning, ensuring financial security for future generations.\n",
    "\n",
    "### Foreign Investors\n",
    "- **International Buyers**: Foreign investors were particularly attracted to the stability and backing of the U.S. government. The first-mortgage status and government support of these bonds provided a level of security that was appealing to international buyers.\n",
    "- **Economic Stability**: The crucial role of the railroads in economic expansion made these bonds even more attractive. Foreign investors saw the potential for growth in the U.S. economy, supported by the development of its infrastructure.\n",
    "- **Diversification of Holdings**: Investing in Currency Sixes allowed foreign investors to diversify their holdings and reduce exposure to their domestic markets. This diversification was a key strategy for managing international investment risk.\n",
    "\n",
    "## Yield Trends:\n",
    "The yield trends of the Currency Sixes bonds reflect the return on investment for bondholders. These trends were influenced by various factors, including economic conditions, investor sentiment, and the progress of the railroad projects. *(Weidenmier)*"
   ]
  },
  {
   "cell_type": "code",
   "execution_count": null,
   "id": "c3c3dc6e",
   "metadata": {
    "tags": []
   },
   "outputs": [],
   "source": [
    "# function to plot average yield\n",
    "def plot_average_yield():\n",
    "    avg_yield = bond_yields[[col for col in bond_yields.columns if col not in ['Year', 'No.', 'Date', 'Unnamed: 89']]].mean(axis=1)\n",
    "    avg_yield = avg_yield.ffill()\n",
    "    plt.figure(figsize=(14, 7))\n",
    "    plt.plot(bond_yields['Date'], avg_yield, label='Average Yield', linewidth=2)\n",
    "    \n",
    "    # custom annotations for each event\n",
    "    annotations = {\n",
    "        'Pacific Railway Act': {'offset': (0, 50), 'rad': 0.3},\n",
    "        '1864 Amendment': {'offset': (0, 30), 'rad': 0.3}, \n",
    "        'Completion of Transcontinental Railroad': {'offset': (0, 50), 'rad': 0.3},\n",
    "        'Panic of 1873': {'offset': (0, 30), 'rad': 0.3} \n",
    "    }\n",
    "\n",
    "    for event in notable_events:\n",
    "        event_date = pd.to_datetime(event['date'])\n",
    "        y_pos = avg_yield[bond_yields['Date'] == event_date].values[0]\n",
    "        offset = annotations[event['event']]['offset']\n",
    "        rad = annotations[event['event']]['rad']\n",
    "\n",
    "        plt.annotate(event['event'], xy=(event_date, y_pos),\n",
    "                     xytext=offset, textcoords='offset points',\n",
    "                     bbox=dict(boxstyle=\"round,pad=0.3\", fc=\"white\", ec=\"black\", lw=1),\n",
    "                     arrowprops=dict(arrowstyle=\"->\", connectionstyle=f\"arc3,rad={rad}\"))\n",
    "\n",
    "    plt.title('Average Yield Trend of Currency Sixes Bonds (Jul 1862 - Dec 1901)', fontsize=16)\n",
    "    plt.xlabel('Year', fontsize=14)\n",
    "    plt.ylabel('Average Yield (%)', fontsize=14)\n",
    "    plt.legend(loc='upper right', fontsize=12)\n",
    "    plt.grid(True)\n",
    "    plt.gca().xaxis.set_major_locator(YearLocator(2))\n",
    "    plt.gca().xaxis.set_major_formatter(DateFormatter('%Y'))\n",
    "    plt.xticks(rotation=0, fontsize=12)\n",
    "    plt.yticks(fontsize=12)\n",
    "    plt.tight_layout()\n",
    "    plt.show()\n",
    "\n",
    "plot_average_yield()"
   ]
  },
  {
   "cell_type": "markdown",
   "id": "85617a28",
   "metadata": {},
   "source": [
    "## Marketability: \n",
    "\n",
    "The Currency Sixes were set at a first-mortgage status over government-issued bonds after 1864 amendment legislation. First-mortgage status, or first lien, meant that in the event of a default, these bonds would be paid back before government-issued bonds.\n",
    "\n",
    "The key here was to create a more secure bond that appealed to a wider range of investors with lower risk tolerance, which increased the pool of potential buyers. By balancing the financial burden between the government and the private sector, the government could indirectly support private enterprises for the war without direct expenditure.\n",
    "\n",
    "To raise the appeal towards investors, the federal government granted land to the railroads along the rights of way:\n",
    "\n",
    "- 200 feet on each side of the track\n",
    "- Sections 10 miles square alternating on each side\n",
    "\n",
    "**Note:** Union Pacific had a difficult time gathering investments to repay. Ten thousand shares of $1,000 each were needed to be issued (only 10% had to be paid at the time of subscription). However, only 31 shares were established despite marketing in 24 cities.\n",
    "\n",
    "**Example:** Railway executive Thomas C. Durant stepped in to promote shares of the Union Pacific. He put up the first installment of 10% himself and guaranteed investors against their loss on investment, eventually selling 2,177 shares by October 29, 1863.\n",
    "\n",
    "Large private investors, usually the executive leaders of the railroads, were tasked with promoting shares of their own projects. In this way, they were able to convince their acquaintances and others potentially interested to invest.\n",
    "*(Crocker, 2014), (DeMatos, 2023)*\n",
    "\n",
    "## Pricing: \n",
    "- Various amounts of the loan were based on the geographical difficulty of building the railroads.\n",
    "- Failure to complete the tracks by January 1, 1874, resulted in forfeiture of rights.\n",
    "- 'Easy Grade' was 16,000 dollars per mile [gentle slopes].\n",
    "- 'Moderate' was 32,000 dollars per mile.\n",
    "- 'Mountainous' was 48,000 dollars per mile.\n",
    "- The point of these prices could have been an incentive for the builders to finish the entire commissioned project instead of seeking small profits, thus creating a more sustainable source of funding for the investment.\n",
    "*(Crocker, 2014)*\n",
    "\n",
    "## Historical Context: (Weidenmier), (Gallman, 1992)\n",
    "The issuance and performance of the Currency Sixes bonds were closely tied to the economic and political landscape of the time. Key events such as the Civil War, the Panic of 1873, and other economic crises affected the bond market and investor sentiment.\n",
    "\n",
    "## Notable Events: (National Archives and Records Administration), (Crocker, 2014)\n",
    "- **Pacific Railway Act (1862):** This act facilitated the issuance of bonds to finance the construction of the Transcontinental Railroad.\n",
    "- **1864 Amendment to the Pacific Railway Act:** This amendment provided additional support and resources for the railroad construction, impacting the allocation and issuance of bonds.\n",
    "- **Panic of 1873:** This financial crisis led to significant fluctuations in bond prices as investors reacted to the economic downturn.\n",
    "- **Completion of the Transcontinental Railroad:** The successful completion of the railroad projects boosted investor confidence and supported the bond prices.\n",
    "\n",
    "## Conclusion\n",
    "The Currency Sixes bonds were an important financial instrument in the history of the United States. Their role in funding the Transcontinental Railroads and their impact on the economic development of the country show the importance of these bonds in American history."
   ]
  },
  {
   "cell_type": "code",
   "execution_count": null,
   "id": "598cf522",
   "metadata": {
    "tags": []
   },
   "outputs": [],
   "source": [
    "# plotting function to plot a graph of all the bonds' yield and price, as well as individual yields/prices\n",
    "def plot_trends(view_type, bond_id=None):\n",
    "    plt.figure(figsize=(14, 7))\n",
    "    \n",
    "    if view_type == 'Combined Price':\n",
    "        for column in [col for col in bond_prices.columns if col not in ['Year', 'No.', 'Date', 'Unnamed: 89']]:\n",
    "            plt.plot(bond_prices['Date'], bond_prices[column], label=f'Bond {column}', linewidth=1)\n",
    "        plt.title('Price Trends of All Currency Sixes Bonds Over Time', fontsize=16)\n",
    "        plt.ylabel('Price ($)', fontsize=14)\n",
    "        \n",
    "    elif view_type == 'Combined Yield':\n",
    "        for column in [col for col in bond_yields.columns if col not in ['Year', 'No.', 'Date', 'Unnamed: 89']]:\n",
    "            bond_yields[column] = bond_yields[column].fillna(method='ffill')\n",
    "            plt.plot(bond_yields['Date'], bond_yields[column], label=f'Bond {column}', linewidth=1)\n",
    "        plt.title('Yield Trends of All Currency Sixes Bonds Over Time', fontsize=16)\n",
    "        plt.ylabel('Yield (%)', fontsize=14)\n",
    "        \n",
    "    elif view_type == 'Individual Price' and bond_id:\n",
    "        plt.plot(bond_prices['Date'], bond_prices[bond_id], label=f'Bond {bond_id}', linewidth=2)\n",
    "        plt.title(f'Price Trend of Bond {bond_id} Over Time', fontsize=16)\n",
    "        plt.ylabel('Price ($)', fontsize=14)\n",
    "        \n",
    "    elif view_type == 'Individual Yield' and bond_id:\n",
    "        plt.plot(bond_yields['Date'], bond_yields[bond_id], label=f'Bond {bond_id}', linewidth=2)\n",
    "        plt.title(f'Yield Trend of Bond {bond_id} Over Time', fontsize=16)\n",
    "        plt.ylabel('Yield (%)', fontsize=14)\n",
    "        \n",
    "    plt.xlabel('Year', fontsize=14)\n",
    "    plt.legend(title='Bond ID', loc='upper right', bbox_to_anchor=(1.15, 1), fontsize=12)\n",
    "    plt.grid(True)\n",
    "    plt.tight_layout()\n",
    "    plt.show()\n",
    "\n",
    "# dropdown menu to sort through options\n",
    "def display_graphs(view_type):\n",
    "    if view_type in ['Combined Price', 'Combined Yield']:\n",
    "        plot_trends(view_type)\n",
    "    elif view_type in ['Individual Price', 'Individual Yield']:\n",
    "        bond_dropdown = widgets.Dropdown(options=[col for col in bond_prices.columns if col not in ['Year', 'No.', 'Date', 'Unnamed: 89']], description='Bond ID:')\n",
    "        interact(plot_trends, view_type=fixed(view_type), bond_id=bond_dropdown)\n",
    "\n",
    "view_options = ['Combined Price', 'Combined Yield', 'Individual Price', 'Individual Yield']\n",
    "view_dropdown = widgets.Dropdown(options=view_options, description='View:')\n",
    "interact(display_graphs, view_type=view_dropdown)"
   ]
  },
  {
   "cell_type": "markdown",
   "id": "5ca55577",
   "metadata": {},
   "source": [
    "## Sources\n",
    "List of sources we used to write our bond biography\n",
    "\n",
    "- BARRIGER, J. W., & McNamara, R. S. (1965). Railroads in the Civil War. National Defense Transportation Journal, 21(2), 42–48. http://www.jstor.org/stable/44097985\n",
    "- Crocker, E. B. (2014, April 17). Financing America’s First Transcontinental Railroad. Beyond the History Textbooks. https://beyondthehistorytextbooks.com/2014/04/17/financing-americas-first-transcontinental-railroad/ \n",
    "- Daniel DeMatos, C. (2023b, February 27). TCH: Financing and Building Union Pacific. LinkedIn. https://www.linkedin.com/pulse/tch-financing-building-union-pacific-daniel-dematos-cfa/ \n",
    "- Fleisig, H. (2010). The Central Pacific Railroad and the railroad land grant controversy. The Journal of Economic History. Cambridge University Press. https://doi.org/10.1017/S0022050700097201\n",
    "- Gallman, R. E., & Wallis, J. J. (1992). U. S. labor force estimates and economic growth, 1800- ... nber.org. https://www.nber.org/system/files/chapters/c8007/c8007.pdf \n",
    "- Mulopulos, S. (2024, February 20). Rediscovering the readjusters: Remembering a lost multiracial, working-class movement. American Affairs Journal. https://americanaffairsjournal.org/2024/02/rediscovering-the-readjusters-remembering-a-lost-multiracial-working-class-movement/ \n",
    "- National Archives and Records Administration. (n.d.). Pacific Railway Act (1862). National Archives and Records Administration. https://www.archives.gov/milestone-documents/pacific-railway-act \n",
    "- Poor, H. V. (1879). The Pacific Railroad. The North American Review, 128(271), 664–680. http://www.jstor.org/stable/25100767\n",
    "- Russel, R. R. (1928). A Revaluation of the Period Before the Civil War: Railroads. The Mississippi Valley Historical Review, 15(3), 341–354. https://doi.org/10.2307/1892434\n",
    "- The history of the debt. TreasuryDirect. (n.d.). https://www.treasurydirect.gov/government/historical-debt-outstanding/\n",
    "- Vance, J. E. , Allen, . Geoffrey Freeman and Shedd, . Thomas Clark (2024, July 3). railroad. Encyclopedia Britannica. https://www.britannica.com/technology/railroad\n",
    "- Weidenmier, M. D., & Davis, J. H. (n.d.). The macroeconomic impact of the American Civil War. atlantafed.org. https://www.atlantafed.org/blogs/-/media/CFBC939B67FA46169DA711319F15FDD2.ashx "
   ]
  },
  {
   "cell_type": "code",
   "execution_count": null,
   "id": "5279846b",
   "metadata": {},
   "outputs": [],
   "source": []
  },
  {
   "cell_type": "code",
   "execution_count": null,
   "id": "9e1e64c3-eb8d-4004-8ab1-8d36c631fdf8",
   "metadata": {},
   "outputs": [],
   "source": []
  }
 ],
 "metadata": {
  "kernelspec": {
   "display_name": "Python 3 (ipykernel)",
   "language": "python",
   "name": "python3"
  },
  "language_info": {
   "codemirror_mode": {
    "name": "ipython",
    "version": 3
   },
   "file_extension": ".py",
   "mimetype": "text/x-python",
   "name": "python",
   "nbconvert_exporter": "python",
   "pygments_lexer": "ipython3",
   "version": "3.11.7"
  }
 },
 "nbformat": 4,
 "nbformat_minor": 5
}
