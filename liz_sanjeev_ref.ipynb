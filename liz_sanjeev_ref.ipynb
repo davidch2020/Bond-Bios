{
 "cells": [
  {
   "cell_type": "markdown",
   "id": "90c399ee-ac21-4b72-be26-322d8129f7f9",
   "metadata": {},
   "source": [
    "# header 1\n",
    "## header 2\n",
    "### header 3\n",
    "#### header 4\n",
    "\n",
    "<span style = \"color: red\"> This is red </span><span style = \"color: blue\"> This is red </span>\n",
    "<span style = \"color: purple\"> This is red </span><span style = \"color: green\"> This is red </span>\n",
    "\n",
    "\n",
    "\n",
    "this is a sentence. this is a second sentence in the same paragraph\n",
    "\n",
    "this is a different paragraph. \n",
    "\n",
    "**bolded**\n",
    "\n",
    "[text you want to see](google.com)"
   ]
  },
  {
   "cell_type": "code",
   "execution_count": 1,
   "id": "105220d2-ec83-4295-91b9-7a8e7a917a49",
   "metadata": {},
   "outputs": [],
   "source": [
    "import pandas as pd"
   ]
  }
 ],
 "metadata": {
  "kernelspec": {
   "display_name": "Python 3 (ipykernel)",
   "language": "python",
   "name": "python3"
  },
  "language_info": {
   "codemirror_mode": {
    "name": "ipython",
    "version": 3
   },
   "file_extension": ".py",
   "mimetype": "text/x-python",
   "name": "python",
   "nbconvert_exporter": "python",
   "pygments_lexer": "ipython3",
   "version": "3.11.5"
  }
 },
 "nbformat": 4,
 "nbformat_minor": 5
}
